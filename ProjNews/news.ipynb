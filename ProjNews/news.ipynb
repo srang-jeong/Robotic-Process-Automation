{
  "cells": [
    {
      "cell_type": "code",
      "execution_count": 47,
      "metadata": {
        "colab": {
          "base_uri": "https://localhost:8080/"
        },
        "collapsed": true,
        "id": "Wqp9rpdmU0s4",
        "outputId": "1ca96829-738f-4151-dc0a-c42a45ec7dbe"
      },
      "outputs": [
        {
          "name": "stdout",
          "output_type": "stream",
          "text": [
            "Requirement already satisfied: streamlit in c:\\users\\edu03-17\\appdata\\local\\programs\\python\\python310\\lib\\site-packages (1.47.0)\n",
            "Requirement already satisfied: newspaper3k in c:\\users\\edu03-17\\appdata\\local\\programs\\python\\python310\\lib\\site-packages (0.2.8)\n",
            "Requirement already satisfied: pandas in c:\\users\\edu03-17\\appdata\\local\\programs\\python\\python310\\lib\\site-packages (2.3.1)\n",
            "Requirement already satisfied: konlpy in c:\\users\\edu03-17\\appdata\\local\\programs\\python\\python310\\lib\\site-packages (0.6.0)\n",
            "Requirement already satisfied: sentence-transformers in c:\\users\\edu03-17\\appdata\\local\\programs\\python\\python310\\lib\\site-packages (5.0.0)\n",
            "Requirement already satisfied: blinker<2,>=1.5.0 in c:\\users\\edu03-17\\appdata\\local\\programs\\python\\python310\\lib\\site-packages (from streamlit) (1.9.0)\n",
            "Requirement already satisfied: click<9,>=7.0 in c:\\users\\edu03-17\\appdata\\local\\programs\\python\\python310\\lib\\site-packages (from streamlit) (8.2.1)\n",
            "Requirement already satisfied: altair<6,>=4.0 in c:\\users\\edu03-17\\appdata\\local\\programs\\python\\python310\\lib\\site-packages (from streamlit) (5.5.0)\n",
            "Requirement already satisfied: numpy<3,>=1.23 in c:\\users\\edu03-17\\appdata\\local\\programs\\python\\python310\\lib\\site-packages (from streamlit) (2.2.6)\n",
            "Requirement already satisfied: cachetools<7,>=4.0 in c:\\users\\edu03-17\\appdata\\local\\programs\\python\\python310\\lib\\site-packages (from streamlit) (6.1.0)\n",
            "Requirement already satisfied: protobuf<7,>=3.20 in c:\\users\\edu03-17\\appdata\\local\\programs\\python\\python310\\lib\\site-packages (from streamlit) (6.31.1)\n",
            "Requirement already satisfied: pyarrow>=7.0 in c:\\users\\edu03-17\\appdata\\local\\programs\\python\\python310\\lib\\site-packages (from streamlit) (21.0.0)\n",
            "Requirement already satisfied: pydeck<1,>=0.8.0b4 in c:\\users\\edu03-17\\appdata\\local\\programs\\python\\python310\\lib\\site-packages (from streamlit) (0.9.1)\n",
            "Requirement already satisfied: tenacity<10,>=8.1.0 in c:\\users\\edu03-17\\appdata\\local\\programs\\python\\python310\\lib\\site-packages (from streamlit) (9.1.2)\n",
            "Requirement already satisfied: typing-extensions<5,>=4.4.0 in c:\\users\\edu03-17\\appdata\\roaming\\python\\python310\\site-packages (from streamlit) (4.14.1)\n",
            "Requirement already satisfied: watchdog<7,>=2.1.5 in c:\\users\\edu03-17\\appdata\\local\\programs\\python\\python310\\lib\\site-packages (from streamlit) (6.0.0)\n",
            "Requirement already satisfied: toml<2,>=0.10.1 in c:\\users\\edu03-17\\appdata\\local\\programs\\python\\python310\\lib\\site-packages (from streamlit) (0.10.2)\n",
            "Requirement already satisfied: packaging<26,>=20 in c:\\users\\edu03-17\\appdata\\roaming\\python\\python310\\site-packages (from streamlit) (25.0)\n",
            "Requirement already satisfied: pillow<12,>=7.1.0 in c:\\users\\edu03-17\\appdata\\local\\programs\\python\\python310\\lib\\site-packages (from streamlit) (11.3.0)\n",
            "Requirement already satisfied: tornado!=6.5.0,<7,>=6.0.3 in c:\\users\\edu03-17\\appdata\\roaming\\python\\python310\\site-packages (from streamlit) (6.5.1)\n",
            "Requirement already satisfied: requests<3,>=2.27 in c:\\users\\edu03-17\\appdata\\local\\programs\\python\\python310\\lib\\site-packages (from streamlit) (2.32.4)\n",
            "Requirement already satisfied: gitpython!=3.1.19,<4,>=3.0.7 in c:\\users\\edu03-17\\appdata\\local\\programs\\python\\python310\\lib\\site-packages (from streamlit) (3.1.44)\n",
            "Requirement already satisfied: feedparser>=5.2.1 in c:\\users\\edu03-17\\appdata\\local\\programs\\python\\python310\\lib\\site-packages (from newspaper3k) (6.0.11)\n",
            "Requirement already satisfied: cssselect>=0.9.2 in c:\\users\\edu03-17\\appdata\\local\\programs\\python\\python310\\lib\\site-packages (from newspaper3k) (1.3.0)\n",
            "Requirement already satisfied: tinysegmenter==0.3 in c:\\users\\edu03-17\\appdata\\local\\programs\\python\\python310\\lib\\site-packages (from newspaper3k) (0.3)\n",
            "Requirement already satisfied: PyYAML>=3.11 in c:\\users\\edu03-17\\appdata\\local\\programs\\python\\python310\\lib\\site-packages (from newspaper3k) (6.0.2)\n",
            "Requirement already satisfied: nltk>=3.2.1 in c:\\users\\edu03-17\\appdata\\local\\programs\\python\\python310\\lib\\site-packages (from newspaper3k) (3.9.1)\n",
            "Requirement already satisfied: jieba3k>=0.35.1 in c:\\users\\edu03-17\\appdata\\local\\programs\\python\\python310\\lib\\site-packages (from newspaper3k) (0.35.1)\n",
            "Requirement already satisfied: tldextract>=2.0.1 in c:\\users\\edu03-17\\appdata\\local\\programs\\python\\python310\\lib\\site-packages (from newspaper3k) (5.3.0)\n",
            "Requirement already satisfied: beautifulsoup4>=4.4.1 in c:\\users\\edu03-17\\appdata\\local\\programs\\python\\python310\\lib\\site-packages (from newspaper3k) (4.13.4)\n",
            "Requirement already satisfied: feedfinder2>=0.0.4 in c:\\users\\edu03-17\\appdata\\local\\programs\\python\\python310\\lib\\site-packages (from newspaper3k) (0.0.4)\n",
            "Requirement already satisfied: python-dateutil>=2.5.3 in c:\\users\\edu03-17\\appdata\\roaming\\python\\python310\\site-packages (from newspaper3k) (2.9.0.post0)\n",
            "Requirement already satisfied: lxml>=3.6.0 in c:\\users\\edu03-17\\appdata\\local\\programs\\python\\python310\\lib\\site-packages (from newspaper3k) (6.0.0)\n",
            "Requirement already satisfied: pytz>=2020.1 in c:\\users\\edu03-17\\appdata\\local\\programs\\python\\python310\\lib\\site-packages (from pandas) (2025.2)\n",
            "Requirement already satisfied: tzdata>=2022.7 in c:\\users\\edu03-17\\appdata\\local\\programs\\python\\python310\\lib\\site-packages (from pandas) (2025.2)\n",
            "Requirement already satisfied: JPype1>=0.7.0 in c:\\users\\edu03-17\\appdata\\local\\programs\\python\\python310\\lib\\site-packages (from konlpy) (1.6.0)\n",
            "Requirement already satisfied: transformers<5.0.0,>=4.41.0 in c:\\users\\edu03-17\\appdata\\local\\programs\\python\\python310\\lib\\site-packages (from sentence-transformers) (4.53.2)\n",
            "Requirement already satisfied: scikit-learn in c:\\users\\edu03-17\\appdata\\local\\programs\\python\\python310\\lib\\site-packages (from sentence-transformers) (1.7.1)\n",
            "Requirement already satisfied: torch>=1.11.0 in c:\\users\\edu03-17\\appdata\\local\\programs\\python\\python310\\lib\\site-packages (from sentence-transformers) (2.7.1)\n",
            "Requirement already satisfied: tqdm in c:\\users\\edu03-17\\appdata\\local\\programs\\python\\python310\\lib\\site-packages (from sentence-transformers) (4.67.1)\n",
            "Requirement already satisfied: scipy in c:\\users\\edu03-17\\appdata\\local\\programs\\python\\python310\\lib\\site-packages (from sentence-transformers) (1.15.3)\n",
            "Requirement already satisfied: huggingface-hub>=0.20.0 in c:\\users\\edu03-17\\appdata\\local\\programs\\python\\python310\\lib\\site-packages (from sentence-transformers) (0.33.4)\n",
            "Requirement already satisfied: jinja2 in c:\\users\\edu03-17\\appdata\\local\\programs\\python\\python310\\lib\\site-packages (from altair<6,>=4.0->streamlit) (3.1.6)\n",
            "Requirement already satisfied: narwhals>=1.14.2 in c:\\users\\edu03-17\\appdata\\local\\programs\\python\\python310\\lib\\site-packages (from altair<6,>=4.0->streamlit) (1.48.0)\n",
            "Requirement already satisfied: jsonschema>=3.0 in c:\\users\\edu03-17\\appdata\\local\\programs\\python\\python310\\lib\\site-packages (from altair<6,>=4.0->streamlit) (4.25.0)\n",
            "Requirement already satisfied: soupsieve>1.2 in c:\\users\\edu03-17\\appdata\\local\\programs\\python\\python310\\lib\\site-packages (from beautifulsoup4>=4.4.1->newspaper3k) (2.7)\n",
            "Requirement already satisfied: colorama in c:\\users\\edu03-17\\appdata\\roaming\\python\\python310\\site-packages (from click<9,>=7.0->streamlit) (0.4.6)\n",
            "Requirement already satisfied: six in c:\\users\\edu03-17\\appdata\\roaming\\python\\python310\\site-packages (from feedfinder2>=0.0.4->newspaper3k) (1.17.0)\n",
            "Requirement already satisfied: sgmllib3k in c:\\users\\edu03-17\\appdata\\local\\programs\\python\\python310\\lib\\site-packages (from feedparser>=5.2.1->newspaper3k) (1.0.0)\n",
            "Requirement already satisfied: gitdb<5,>=4.0.1 in c:\\users\\edu03-17\\appdata\\local\\programs\\python\\python310\\lib\\site-packages (from gitpython!=3.1.19,<4,>=3.0.7->streamlit) (4.0.12)\n",
            "Requirement already satisfied: filelock in c:\\users\\edu03-17\\appdata\\local\\programs\\python\\python310\\lib\\site-packages (from huggingface-hub>=0.20.0->sentence-transformers) (3.18.0)\n",
            "Requirement already satisfied: fsspec>=2023.5.0 in c:\\users\\edu03-17\\appdata\\local\\programs\\python\\python310\\lib\\site-packages (from huggingface-hub>=0.20.0->sentence-transformers) (2025.7.0)\n",
            "Requirement already satisfied: joblib in c:\\users\\edu03-17\\appdata\\local\\programs\\python\\python310\\lib\\site-packages (from nltk>=3.2.1->newspaper3k) (1.5.1)\n",
            "Requirement already satisfied: regex>=2021.8.3 in c:\\users\\edu03-17\\appdata\\local\\programs\\python\\python310\\lib\\site-packages (from nltk>=3.2.1->newspaper3k) (2024.11.6)\n",
            "Requirement already satisfied: idna<4,>=2.5 in c:\\users\\edu03-17\\appdata\\local\\programs\\python\\python310\\lib\\site-packages (from requests<3,>=2.27->streamlit) (2.10)\n",
            "Requirement already satisfied: urllib3<3,>=1.21.1 in c:\\users\\edu03-17\\appdata\\local\\programs\\python\\python310\\lib\\site-packages (from requests<3,>=2.27->streamlit) (2.5.0)\n",
            "Requirement already satisfied: charset_normalizer<4,>=2 in c:\\users\\edu03-17\\appdata\\local\\programs\\python\\python310\\lib\\site-packages (from requests<3,>=2.27->streamlit) (3.4.2)\n",
            "Requirement already satisfied: certifi>=2017.4.17 in c:\\users\\edu03-17\\appdata\\local\\programs\\python\\python310\\lib\\site-packages (from requests<3,>=2.27->streamlit) (2025.7.14)\n",
            "Requirement already satisfied: requests-file>=1.4 in c:\\users\\edu03-17\\appdata\\local\\programs\\python\\python310\\lib\\site-packages (from tldextract>=2.0.1->newspaper3k) (2.1.0)\n",
            "Requirement already satisfied: sympy>=1.13.3 in c:\\users\\edu03-17\\appdata\\local\\programs\\python\\python310\\lib\\site-packages (from torch>=1.11.0->sentence-transformers) (1.14.0)\n",
            "Requirement already satisfied: networkx in c:\\users\\edu03-17\\appdata\\local\\programs\\python\\python310\\lib\\site-packages (from torch>=1.11.0->sentence-transformers) (3.4.2)\n",
            "Requirement already satisfied: safetensors>=0.4.3 in c:\\users\\edu03-17\\appdata\\local\\programs\\python\\python310\\lib\\site-packages (from transformers<5.0.0,>=4.41.0->sentence-transformers) (0.5.3)\n",
            "Requirement already satisfied: tokenizers<0.22,>=0.21 in c:\\users\\edu03-17\\appdata\\local\\programs\\python\\python310\\lib\\site-packages (from transformers<5.0.0,>=4.41.0->sentence-transformers) (0.21.2)\n",
            "Requirement already satisfied: threadpoolctl>=3.1.0 in c:\\users\\edu03-17\\appdata\\local\\programs\\python\\python310\\lib\\site-packages (from scikit-learn->sentence-transformers) (3.6.0)\n",
            "Requirement already satisfied: smmap<6,>=3.0.1 in c:\\users\\edu03-17\\appdata\\local\\programs\\python\\python310\\lib\\site-packages (from gitdb<5,>=4.0.1->gitpython!=3.1.19,<4,>=3.0.7->streamlit) (5.0.2)\n",
            "Requirement already satisfied: MarkupSafe>=2.0 in c:\\users\\edu03-17\\appdata\\local\\programs\\python\\python310\\lib\\site-packages (from jinja2->altair<6,>=4.0->streamlit) (3.0.2)\n",
            "Requirement already satisfied: attrs>=22.2.0 in c:\\users\\edu03-17\\appdata\\local\\programs\\python\\python310\\lib\\site-packages (from jsonschema>=3.0->altair<6,>=4.0->streamlit) (25.3.0)\n",
            "Requirement already satisfied: rpds-py>=0.7.1 in c:\\users\\edu03-17\\appdata\\local\\programs\\python\\python310\\lib\\site-packages (from jsonschema>=3.0->altair<6,>=4.0->streamlit) (0.26.0)\n",
            "Requirement already satisfied: jsonschema-specifications>=2023.03.6 in c:\\users\\edu03-17\\appdata\\local\\programs\\python\\python310\\lib\\site-packages (from jsonschema>=3.0->altair<6,>=4.0->streamlit) (2025.4.1)\n",
            "Requirement already satisfied: referencing>=0.28.4 in c:\\users\\edu03-17\\appdata\\local\\programs\\python\\python310\\lib\\site-packages (from jsonschema>=3.0->altair<6,>=4.0->streamlit) (0.36.2)\n",
            "Requirement already satisfied: mpmath<1.4,>=1.1.0 in c:\\users\\edu03-17\\appdata\\local\\programs\\python\\python310\\lib\\site-packages (from sympy>=1.13.3->torch>=1.11.0->sentence-transformers) (1.3.0)\n"
          ]
        },
        {
          "name": "stderr",
          "output_type": "stream",
          "text": [
            "\n",
            "[notice] A new release of pip available: 22.3.1 -> 25.1.1\n",
            "[notice] To update, run: python.exe -m pip install --upgrade pip\n"
          ]
        }
      ],
      "source": [
        "# 필요 라이브러리 설치\n",
        "!pip install streamlit newspaper3k pandas konlpy sentence-transformers"
      ]
    },
    {
      "cell_type": "code",
      "execution_count": 48,
      "metadata": {
        "colab": {
          "base_uri": "https://localhost:8080/"
        },
        "collapsed": true,
        "id": "e71e5e62",
        "outputId": "3c23f20f-1cfd-4dae-8580-869b9903ffe8"
      },
      "outputs": [
        {
          "name": "stdout",
          "output_type": "stream",
          "text": [
            "Requirement already satisfied: lxml_html_clean in c:\\users\\edu03-17\\appdata\\local\\programs\\python\\python310\\lib\\site-packages (0.4.2)\n",
            "Requirement already satisfied: lxml in c:\\users\\edu03-17\\appdata\\local\\programs\\python\\python310\\lib\\site-packages (from lxml_html_clean) (6.0.0)\n"
          ]
        },
        {
          "name": "stderr",
          "output_type": "stream",
          "text": [
            "\n",
            "[notice] A new release of pip available: 22.3.1 -> 25.1.1\n",
            "[notice] To update, run: python.exe -m pip install --upgrade pip\n"
          ]
        }
      ],
      "source": [
        "!pip install lxml_html_clean"
      ]
    },
    {
      "cell_type": "code",
      "execution_count": 49,
      "metadata": {
        "colab": {
          "base_uri": "https://localhost:8080/"
        },
        "collapsed": true,
        "id": "1tpw7YZqbTAY",
        "outputId": "3d501f51-d1c2-4652-9836-615ba9a133ef"
      },
      "outputs": [
        {
          "name": "stdout",
          "output_type": "stream",
          "text": [
            "Requirement already satisfied: pyngrok in c:\\users\\edu03-17\\appdata\\local\\programs\\python\\python310\\lib\\site-packages (7.2.12)\n",
            "Requirement already satisfied: PyYAML>=5.1 in c:\\users\\edu03-17\\appdata\\local\\programs\\python\\python310\\lib\\site-packages (from pyngrok) (6.0.2)\n"
          ]
        },
        {
          "name": "stderr",
          "output_type": "stream",
          "text": [
            "\n",
            "[notice] A new release of pip available: 22.3.1 -> 25.1.1\n",
            "[notice] To update, run: python.exe -m pip install --upgrade pip\n"
          ]
        }
      ],
      "source": [
        "!pip install pyngrok"
      ]
    },
    {
      "cell_type": "code",
      "execution_count": 50,
      "metadata": {
        "colab": {
          "base_uri": "https://localhost:8080/"
        },
        "collapsed": true,
        "id": "OCmM-AShftg3",
        "outputId": "f9df0276-f4a2-456f-858a-8d161ca5894d"
      },
      "outputs": [
        {
          "name": "stdout",
          "output_type": "stream",
          "text": [
            "Requirement already satisfied: streamlit in c:\\users\\edu03-17\\appdata\\local\\programs\\python\\python310\\lib\\site-packages (1.47.0)\n",
            "Requirement already satisfied: pyngrok in c:\\users\\edu03-17\\appdata\\local\\programs\\python\\python310\\lib\\site-packages (7.2.12)\n",
            "Requirement already satisfied: newspaper3k in c:\\users\\edu03-17\\appdata\\local\\programs\\python\\python310\\lib\\site-packages (0.2.8)\n",
            "Requirement already satisfied: pandas in c:\\users\\edu03-17\\appdata\\local\\programs\\python\\python310\\lib\\site-packages (2.3.1)\n",
            "Requirement already satisfied: konlpy in c:\\users\\edu03-17\\appdata\\local\\programs\\python\\python310\\lib\\site-packages (0.6.0)\n",
            "Requirement already satisfied: sentence-transformers in c:\\users\\edu03-17\\appdata\\local\\programs\\python\\python310\\lib\\site-packages (5.0.0)\n",
            "Requirement already satisfied: lxml_html_clean in c:\\users\\edu03-17\\appdata\\local\\programs\\python\\python310\\lib\\site-packages (0.4.2)\n",
            "Requirement already satisfied: protobuf<7,>=3.20 in c:\\users\\edu03-17\\appdata\\local\\programs\\python\\python310\\lib\\site-packages (from streamlit) (6.31.1)\n",
            "Requirement already satisfied: watchdog<7,>=2.1.5 in c:\\users\\edu03-17\\appdata\\local\\programs\\python\\python310\\lib\\site-packages (from streamlit) (6.0.0)\n",
            "Requirement already satisfied: gitpython!=3.1.19,<4,>=3.0.7 in c:\\users\\edu03-17\\appdata\\local\\programs\\python\\python310\\lib\\site-packages (from streamlit) (3.1.44)\n",
            "Requirement already satisfied: click<9,>=7.0 in c:\\users\\edu03-17\\appdata\\local\\programs\\python\\python310\\lib\\site-packages (from streamlit) (8.2.1)\n",
            "Requirement already satisfied: pillow<12,>=7.1.0 in c:\\users\\edu03-17\\appdata\\local\\programs\\python\\python310\\lib\\site-packages (from streamlit) (11.3.0)\n",
            "Requirement already satisfied: pyarrow>=7.0 in c:\\users\\edu03-17\\appdata\\local\\programs\\python\\python310\\lib\\site-packages (from streamlit) (21.0.0)\n",
            "Requirement already satisfied: cachetools<7,>=4.0 in c:\\users\\edu03-17\\appdata\\local\\programs\\python\\python310\\lib\\site-packages (from streamlit) (6.1.0)\n",
            "Requirement already satisfied: packaging<26,>=20 in c:\\users\\edu03-17\\appdata\\roaming\\python\\python310\\site-packages (from streamlit) (25.0)\n",
            "Requirement already satisfied: tornado!=6.5.0,<7,>=6.0.3 in c:\\users\\edu03-17\\appdata\\roaming\\python\\python310\\site-packages (from streamlit) (6.5.1)\n",
            "Requirement already satisfied: pydeck<1,>=0.8.0b4 in c:\\users\\edu03-17\\appdata\\local\\programs\\python\\python310\\lib\\site-packages (from streamlit) (0.9.1)\n",
            "Requirement already satisfied: numpy<3,>=1.23 in c:\\users\\edu03-17\\appdata\\local\\programs\\python\\python310\\lib\\site-packages (from streamlit) (2.2.6)\n",
            "Requirement already satisfied: requests<3,>=2.27 in c:\\users\\edu03-17\\appdata\\local\\programs\\python\\python310\\lib\\site-packages (from streamlit) (2.32.4)\n",
            "Requirement already satisfied: blinker<2,>=1.5.0 in c:\\users\\edu03-17\\appdata\\local\\programs\\python\\python310\\lib\\site-packages (from streamlit) (1.9.0)\n",
            "Requirement already satisfied: toml<2,>=0.10.1 in c:\\users\\edu03-17\\appdata\\local\\programs\\python\\python310\\lib\\site-packages (from streamlit) (0.10.2)\n",
            "Requirement already satisfied: altair<6,>=4.0 in c:\\users\\edu03-17\\appdata\\local\\programs\\python\\python310\\lib\\site-packages (from streamlit) (5.5.0)\n",
            "Requirement already satisfied: typing-extensions<5,>=4.4.0 in c:\\users\\edu03-17\\appdata\\roaming\\python\\python310\\site-packages (from streamlit) (4.14.1)\n",
            "Requirement already satisfied: tenacity<10,>=8.1.0 in c:\\users\\edu03-17\\appdata\\local\\programs\\python\\python310\\lib\\site-packages (from streamlit) (9.1.2)\n",
            "Requirement already satisfied: PyYAML>=5.1 in c:\\users\\edu03-17\\appdata\\local\\programs\\python\\python310\\lib\\site-packages (from pyngrok) (6.0.2)\n",
            "Requirement already satisfied: tldextract>=2.0.1 in c:\\users\\edu03-17\\appdata\\local\\programs\\python\\python310\\lib\\site-packages (from newspaper3k) (5.3.0)\n",
            "Requirement already satisfied: python-dateutil>=2.5.3 in c:\\users\\edu03-17\\appdata\\roaming\\python\\python310\\site-packages (from newspaper3k) (2.9.0.post0)\n",
            "Requirement already satisfied: feedfinder2>=0.0.4 in c:\\users\\edu03-17\\appdata\\local\\programs\\python\\python310\\lib\\site-packages (from newspaper3k) (0.0.4)\n",
            "Requirement already satisfied: nltk>=3.2.1 in c:\\users\\edu03-17\\appdata\\local\\programs\\python\\python310\\lib\\site-packages (from newspaper3k) (3.9.1)\n",
            "Requirement already satisfied: lxml>=3.6.0 in c:\\users\\edu03-17\\appdata\\local\\programs\\python\\python310\\lib\\site-packages (from newspaper3k) (6.0.0)\n",
            "Requirement already satisfied: feedparser>=5.2.1 in c:\\users\\edu03-17\\appdata\\local\\programs\\python\\python310\\lib\\site-packages (from newspaper3k) (6.0.11)\n",
            "Requirement already satisfied: cssselect>=0.9.2 in c:\\users\\edu03-17\\appdata\\local\\programs\\python\\python310\\lib\\site-packages (from newspaper3k) (1.3.0)\n",
            "Requirement already satisfied: jieba3k>=0.35.1 in c:\\users\\edu03-17\\appdata\\local\\programs\\python\\python310\\lib\\site-packages (from newspaper3k) (0.35.1)\n",
            "Requirement already satisfied: beautifulsoup4>=4.4.1 in c:\\users\\edu03-17\\appdata\\local\\programs\\python\\python310\\lib\\site-packages (from newspaper3k) (4.13.4)\n",
            "Requirement already satisfied: tinysegmenter==0.3 in c:\\users\\edu03-17\\appdata\\local\\programs\\python\\python310\\lib\\site-packages (from newspaper3k) (0.3)\n",
            "Requirement already satisfied: pytz>=2020.1 in c:\\users\\edu03-17\\appdata\\local\\programs\\python\\python310\\lib\\site-packages (from pandas) (2025.2)\n",
            "Requirement already satisfied: tzdata>=2022.7 in c:\\users\\edu03-17\\appdata\\local\\programs\\python\\python310\\lib\\site-packages (from pandas) (2025.2)\n",
            "Requirement already satisfied: JPype1>=0.7.0 in c:\\users\\edu03-17\\appdata\\local\\programs\\python\\python310\\lib\\site-packages (from konlpy) (1.6.0)\n",
            "Requirement already satisfied: scikit-learn in c:\\users\\edu03-17\\appdata\\local\\programs\\python\\python310\\lib\\site-packages (from sentence-transformers) (1.7.1)\n",
            "Requirement already satisfied: transformers<5.0.0,>=4.41.0 in c:\\users\\edu03-17\\appdata\\local\\programs\\python\\python310\\lib\\site-packages (from sentence-transformers) (4.53.2)\n",
            "Requirement already satisfied: torch>=1.11.0 in c:\\users\\edu03-17\\appdata\\local\\programs\\python\\python310\\lib\\site-packages (from sentence-transformers) (2.7.1)\n",
            "Requirement already satisfied: huggingface-hub>=0.20.0 in c:\\users\\edu03-17\\appdata\\local\\programs\\python\\python310\\lib\\site-packages (from sentence-transformers) (0.33.4)\n",
            "Requirement already satisfied: scipy in c:\\users\\edu03-17\\appdata\\local\\programs\\python\\python310\\lib\\site-packages (from sentence-transformers) (1.15.3)\n",
            "Requirement already satisfied: tqdm in c:\\users\\edu03-17\\appdata\\local\\programs\\python\\python310\\lib\\site-packages (from sentence-transformers) (4.67.1)\n",
            "Requirement already satisfied: jinja2 in c:\\users\\edu03-17\\appdata\\local\\programs\\python\\python310\\lib\\site-packages (from altair<6,>=4.0->streamlit) (3.1.6)\n",
            "Requirement already satisfied: jsonschema>=3.0 in c:\\users\\edu03-17\\appdata\\local\\programs\\python\\python310\\lib\\site-packages (from altair<6,>=4.0->streamlit) (4.25.0)\n",
            "Requirement already satisfied: narwhals>=1.14.2 in c:\\users\\edu03-17\\appdata\\local\\programs\\python\\python310\\lib\\site-packages (from altair<6,>=4.0->streamlit) (1.48.0)\n",
            "Requirement already satisfied: soupsieve>1.2 in c:\\users\\edu03-17\\appdata\\local\\programs\\python\\python310\\lib\\site-packages (from beautifulsoup4>=4.4.1->newspaper3k) (2.7)\n",
            "Requirement already satisfied: colorama in c:\\users\\edu03-17\\appdata\\roaming\\python\\python310\\site-packages (from click<9,>=7.0->streamlit) (0.4.6)\n",
            "Requirement already satisfied: six in c:\\users\\edu03-17\\appdata\\roaming\\python\\python310\\site-packages (from feedfinder2>=0.0.4->newspaper3k) (1.17.0)\n",
            "Requirement already satisfied: sgmllib3k in c:\\users\\edu03-17\\appdata\\local\\programs\\python\\python310\\lib\\site-packages (from feedparser>=5.2.1->newspaper3k) (1.0.0)\n",
            "Requirement already satisfied: gitdb<5,>=4.0.1 in c:\\users\\edu03-17\\appdata\\local\\programs\\python\\python310\\lib\\site-packages (from gitpython!=3.1.19,<4,>=3.0.7->streamlit) (4.0.12)\n",
            "Requirement already satisfied: fsspec>=2023.5.0 in c:\\users\\edu03-17\\appdata\\local\\programs\\python\\python310\\lib\\site-packages (from huggingface-hub>=0.20.0->sentence-transformers) (2025.7.0)\n",
            "Requirement already satisfied: filelock in c:\\users\\edu03-17\\appdata\\local\\programs\\python\\python310\\lib\\site-packages (from huggingface-hub>=0.20.0->sentence-transformers) (3.18.0)\n",
            "Requirement already satisfied: regex>=2021.8.3 in c:\\users\\edu03-17\\appdata\\local\\programs\\python\\python310\\lib\\site-packages (from nltk>=3.2.1->newspaper3k) (2024.11.6)\n",
            "Requirement already satisfied: joblib in c:\\users\\edu03-17\\appdata\\local\\programs\\python\\python310\\lib\\site-packages (from nltk>=3.2.1->newspaper3k) (1.5.1)\n",
            "Requirement already satisfied: charset_normalizer<4,>=2 in c:\\users\\edu03-17\\appdata\\local\\programs\\python\\python310\\lib\\site-packages (from requests<3,>=2.27->streamlit) (3.4.2)\n",
            "Requirement already satisfied: idna<4,>=2.5 in c:\\users\\edu03-17\\appdata\\local\\programs\\python\\python310\\lib\\site-packages (from requests<3,>=2.27->streamlit) (2.10)\n",
            "Requirement already satisfied: urllib3<3,>=1.21.1 in c:\\users\\edu03-17\\appdata\\local\\programs\\python\\python310\\lib\\site-packages (from requests<3,>=2.27->streamlit) (2.5.0)\n",
            "Requirement already satisfied: certifi>=2017.4.17 in c:\\users\\edu03-17\\appdata\\local\\programs\\python\\python310\\lib\\site-packages (from requests<3,>=2.27->streamlit) (2025.7.14)\n",
            "Requirement already satisfied: requests-file>=1.4 in c:\\users\\edu03-17\\appdata\\local\\programs\\python\\python310\\lib\\site-packages (from tldextract>=2.0.1->newspaper3k) (2.1.0)\n",
            "Requirement already satisfied: sympy>=1.13.3 in c:\\users\\edu03-17\\appdata\\local\\programs\\python\\python310\\lib\\site-packages (from torch>=1.11.0->sentence-transformers) (1.14.0)\n",
            "Requirement already satisfied: networkx in c:\\users\\edu03-17\\appdata\\local\\programs\\python\\python310\\lib\\site-packages (from torch>=1.11.0->sentence-transformers) (3.4.2)\n",
            "Requirement already satisfied: tokenizers<0.22,>=0.21 in c:\\users\\edu03-17\\appdata\\local\\programs\\python\\python310\\lib\\site-packages (from transformers<5.0.0,>=4.41.0->sentence-transformers) (0.21.2)\n",
            "Requirement already satisfied: safetensors>=0.4.3 in c:\\users\\edu03-17\\appdata\\local\\programs\\python\\python310\\lib\\site-packages (from transformers<5.0.0,>=4.41.0->sentence-transformers) (0.5.3)\n",
            "Requirement already satisfied: threadpoolctl>=3.1.0 in c:\\users\\edu03-17\\appdata\\local\\programs\\python\\python310\\lib\\site-packages (from scikit-learn->sentence-transformers) (3.6.0)\n",
            "Requirement already satisfied: smmap<6,>=3.0.1 in c:\\users\\edu03-17\\appdata\\local\\programs\\python\\python310\\lib\\site-packages (from gitdb<5,>=4.0.1->gitpython!=3.1.19,<4,>=3.0.7->streamlit) (5.0.2)\n",
            "Requirement already satisfied: MarkupSafe>=2.0 in c:\\users\\edu03-17\\appdata\\local\\programs\\python\\python310\\lib\\site-packages (from jinja2->altair<6,>=4.0->streamlit) (3.0.2)\n",
            "Requirement already satisfied: attrs>=22.2.0 in c:\\users\\edu03-17\\appdata\\local\\programs\\python\\python310\\lib\\site-packages (from jsonschema>=3.0->altair<6,>=4.0->streamlit) (25.3.0)\n",
            "Requirement already satisfied: rpds-py>=0.7.1 in c:\\users\\edu03-17\\appdata\\local\\programs\\python\\python310\\lib\\site-packages (from jsonschema>=3.0->altair<6,>=4.0->streamlit) (0.26.0)\n",
            "Requirement already satisfied: jsonschema-specifications>=2023.03.6 in c:\\users\\edu03-17\\appdata\\local\\programs\\python\\python310\\lib\\site-packages (from jsonschema>=3.0->altair<6,>=4.0->streamlit) (2025.4.1)\n",
            "Requirement already satisfied: referencing>=0.28.4 in c:\\users\\edu03-17\\appdata\\local\\programs\\python\\python310\\lib\\site-packages (from jsonschema>=3.0->altair<6,>=4.0->streamlit) (0.36.2)\n",
            "Requirement already satisfied: mpmath<1.4,>=1.1.0 in c:\\users\\edu03-17\\appdata\\local\\programs\\python\\python310\\lib\\site-packages (from sympy>=1.13.3->torch>=1.11.0->sentence-transformers) (1.3.0)\n"
          ]
        },
        {
          "name": "stderr",
          "output_type": "stream",
          "text": [
            "\n",
            "[notice] A new release of pip available: 22.3.1 -> 25.1.1\n",
            "[notice] To update, run: python.exe -m pip install --upgrade pip\n"
          ]
        }
      ],
      "source": [
        "!pip install streamlit pyngrok newspaper3k pandas konlpy sentence-transformers lxml_html_clean"
      ]
    },
    {
      "cell_type": "code",
      "execution_count": 51,
      "metadata": {
        "colab": {
          "base_uri": "https://localhost:8080/"
        },
        "collapsed": true,
        "id": "vzpkKarm9YBn",
        "outputId": "bfff3807-a791-492e-fc2e-37bafbb4573f"
      },
      "outputs": [
        {
          "name": "stdout",
          "output_type": "stream",
          "text": [
            "Requirement already satisfied: pyttsx3 in c:\\users\\edu03-17\\appdata\\local\\programs\\python\\python310\\lib\\site-packages (2.99)\n",
            "Requirement already satisfied: pywin32 in c:\\users\\edu03-17\\appdata\\roaming\\python\\python310\\site-packages (from pyttsx3) (310)\n",
            "Requirement already satisfied: comtypes in c:\\users\\edu03-17\\appdata\\local\\programs\\python\\python310\\lib\\site-packages (from pyttsx3) (1.4.11)\n",
            "Requirement already satisfied: pypiwin32 in c:\\users\\edu03-17\\appdata\\local\\programs\\python\\python310\\lib\\site-packages (from pyttsx3) (223)\n"
          ]
        },
        {
          "name": "stderr",
          "output_type": "stream",
          "text": [
            "\n",
            "[notice] A new release of pip available: 22.3.1 -> 25.1.1\n",
            "[notice] To update, run: python.exe -m pip install --upgrade pip\n"
          ]
        }
      ],
      "source": [
        "!pip install pyttsx3"
      ]
    },
    {
      "cell_type": "code",
      "execution_count": 52,
      "metadata": {},
      "outputs": [
        {
          "name": "stdout",
          "output_type": "stream",
          "text": [
            "Requirement already satisfied: wordcloud in c:\\users\\edu03-17\\appdata\\local\\programs\\python\\python310\\lib\\site-packages (1.9.4)\n",
            "Requirement already satisfied: pillow in c:\\users\\edu03-17\\appdata\\local\\programs\\python\\python310\\lib\\site-packages (from wordcloud) (11.3.0)\n",
            "Requirement already satisfied: numpy>=1.6.1 in c:\\users\\edu03-17\\appdata\\local\\programs\\python\\python310\\lib\\site-packages (from wordcloud) (2.2.6)\n",
            "Requirement already satisfied: matplotlib in c:\\users\\edu03-17\\appdata\\local\\programs\\python\\python310\\lib\\site-packages (from wordcloud) (3.10.3)\n",
            "Requirement already satisfied: fonttools>=4.22.0 in c:\\users\\edu03-17\\appdata\\local\\programs\\python\\python310\\lib\\site-packages (from matplotlib->wordcloud) (4.58.5)\n",
            "Requirement already satisfied: kiwisolver>=1.3.1 in c:\\users\\edu03-17\\appdata\\local\\programs\\python\\python310\\lib\\site-packages (from matplotlib->wordcloud) (1.4.8)\n",
            "Requirement already satisfied: packaging>=20.0 in c:\\users\\edu03-17\\appdata\\roaming\\python\\python310\\site-packages (from matplotlib->wordcloud) (25.0)\n",
            "Requirement already satisfied: contourpy>=1.0.1 in c:\\users\\edu03-17\\appdata\\local\\programs\\python\\python310\\lib\\site-packages (from matplotlib->wordcloud) (1.3.2)\n",
            "Requirement already satisfied: pyparsing>=2.3.1 in c:\\users\\edu03-17\\appdata\\local\\programs\\python\\python310\\lib\\site-packages (from matplotlib->wordcloud) (3.2.3)\n",
            "Requirement already satisfied: python-dateutil>=2.7 in c:\\users\\edu03-17\\appdata\\roaming\\python\\python310\\site-packages (from matplotlib->wordcloud) (2.9.0.post0)\n",
            "Requirement already satisfied: cycler>=0.10 in c:\\users\\edu03-17\\appdata\\local\\programs\\python\\python310\\lib\\site-packages (from matplotlib->wordcloud) (0.12.1)\n",
            "Requirement already satisfied: six>=1.5 in c:\\users\\edu03-17\\appdata\\roaming\\python\\python310\\site-packages (from python-dateutil>=2.7->matplotlib->wordcloud) (1.17.0)\n"
          ]
        },
        {
          "name": "stderr",
          "output_type": "stream",
          "text": [
            "\n",
            "[notice] A new release of pip available: 22.3.1 -> 25.1.1\n",
            "[notice] To update, run: python.exe -m pip install --upgrade pip\n"
          ]
        }
      ],
      "source": [
        "!pip install wordcloud"
      ]
    },
    {
      "cell_type": "code",
      "execution_count": 53,
      "metadata": {
        "colab": {
          "base_uri": "https://localhost:8080/"
        },
        "collapsed": true,
        "id": "EBFJ7c0_5wKL",
        "outputId": "0e4f54ec-1154-4505-9f63-6651d84ef9a9"
      },
      "outputs": [
        {
          "name": "stderr",
          "output_type": "stream",
          "text": [
            "'apt-get'��(��) ���� �Ǵ� �ܺ� ����, ������ �� �ִ� ���α׷�, �Ǵ�\n",
            "��ġ ������ �ƴմϴ�.\n",
            "'apt-get'��(��) ���� �Ǵ� �ܺ� ����, ������ �� �ִ� ���α׷�, �Ǵ�\n",
            "��ġ ������ �ƴմϴ�.\n"
          ]
        }
      ],
      "source": [
        "# Colab 환경에서 한글 폰트 설치\n",
        "!apt-get update\n",
        "!apt-get install fonts-nanum -y"
      ]
    },
    {
      "cell_type": "code",
      "execution_count": 54,
      "metadata": {
        "colab": {
          "base_uri": "https://localhost:8080/"
        },
        "collapsed": true,
        "id": "kwxzSM2NE6gi",
        "outputId": "b2097a4c-2377-42fe-a01b-b740621d2c95"
      },
      "outputs": [
        {
          "name": "stdout",
          "output_type": "stream",
          "text": [
            "Requirement already satisfied: googletrans==4.0.0-rc1 in c:\\users\\edu03-17\\appdata\\local\\programs\\python\\python310\\lib\\site-packages (4.0.0rc1)\n",
            "Requirement already satisfied: httpx==0.13.3 in c:\\users\\edu03-17\\appdata\\local\\programs\\python\\python310\\lib\\site-packages (from googletrans==4.0.0-rc1) (0.13.3)\n",
            "Requirement already satisfied: chardet==3.* in c:\\users\\edu03-17\\appdata\\local\\programs\\python\\python310\\lib\\site-packages (from httpx==0.13.3->googletrans==4.0.0-rc1) (3.0.4)\n",
            "Requirement already satisfied: rfc3986<2,>=1.3 in c:\\users\\edu03-17\\appdata\\local\\programs\\python\\python310\\lib\\site-packages (from httpx==0.13.3->googletrans==4.0.0-rc1) (1.5.0)\n",
            "Requirement already satisfied: idna==2.* in c:\\users\\edu03-17\\appdata\\local\\programs\\python\\python310\\lib\\site-packages (from httpx==0.13.3->googletrans==4.0.0-rc1) (2.10)\n",
            "Requirement already satisfied: hstspreload in c:\\users\\edu03-17\\appdata\\local\\programs\\python\\python310\\lib\\site-packages (from httpx==0.13.3->googletrans==4.0.0-rc1) (2025.1.1)\n",
            "Requirement already satisfied: httpcore==0.9.* in c:\\users\\edu03-17\\appdata\\local\\programs\\python\\python310\\lib\\site-packages (from httpx==0.13.3->googletrans==4.0.0-rc1) (0.9.1)\n",
            "Requirement already satisfied: certifi in c:\\users\\edu03-17\\appdata\\local\\programs\\python\\python310\\lib\\site-packages (from httpx==0.13.3->googletrans==4.0.0-rc1) (2025.7.14)\n",
            "Requirement already satisfied: sniffio in c:\\users\\edu03-17\\appdata\\local\\programs\\python\\python310\\lib\\site-packages (from httpx==0.13.3->googletrans==4.0.0-rc1) (1.3.1)\n",
            "Requirement already satisfied: h11<0.10,>=0.8 in c:\\users\\edu03-17\\appdata\\local\\programs\\python\\python310\\lib\\site-packages (from httpcore==0.9.*->httpx==0.13.3->googletrans==4.0.0-rc1) (0.9.0)\n",
            "Requirement already satisfied: h2==3.* in c:\\users\\edu03-17\\appdata\\local\\programs\\python\\python310\\lib\\site-packages (from httpcore==0.9.*->httpx==0.13.3->googletrans==4.0.0-rc1) (3.2.0)\n",
            "Requirement already satisfied: hyperframe<6,>=5.2.0 in c:\\users\\edu03-17\\appdata\\local\\programs\\python\\python310\\lib\\site-packages (from h2==3.*->httpcore==0.9.*->httpx==0.13.3->googletrans==4.0.0-rc1) (5.2.0)\n",
            "Requirement already satisfied: hpack<4,>=3.0 in c:\\users\\edu03-17\\appdata\\local\\programs\\python\\python310\\lib\\site-packages (from h2==3.*->httpcore==0.9.*->httpx==0.13.3->googletrans==4.0.0-rc1) (3.0.0)\n"
          ]
        },
        {
          "name": "stderr",
          "output_type": "stream",
          "text": [
            "\n",
            "[notice] A new release of pip available: 22.3.1 -> 25.1.1\n",
            "[notice] To update, run: python.exe -m pip install --upgrade pip\n"
          ]
        }
      ],
      "source": [
        "!pip install googletrans==4.0.0-rc1"
      ]
    },
    {
      "cell_type": "code",
      "execution_count": 55,
      "metadata": {
        "colab": {
          "base_uri": "https://localhost:8080/"
        },
        "collapsed": true,
        "id": "pPG94tyLIWEF",
        "outputId": "8ca8649e-b96e-4f78-dd16-ec9eb2183b42"
      },
      "outputs": [
        {
          "name": "stdout",
          "output_type": "stream",
          "text": [
            "Requirement already satisfied: googletrans==4.0.0-rc1 in c:\\users\\edu03-17\\appdata\\local\\programs\\python\\python310\\lib\\site-packages (4.0.0rc1)\n",
            "Requirement already satisfied: fpdf in c:\\users\\edu03-17\\appdata\\local\\programs\\python\\python310\\lib\\site-packages (1.7.2)\n",
            "Requirement already satisfied: beautifulsoup4 in c:\\users\\edu03-17\\appdata\\local\\programs\\python\\python310\\lib\\site-packages (4.13.4)\n",
            "Requirement already satisfied: httpx==0.13.3 in c:\\users\\edu03-17\\appdata\\local\\programs\\python\\python310\\lib\\site-packages (from googletrans==4.0.0-rc1) (0.13.3)\n",
            "Requirement already satisfied: hstspreload in c:\\users\\edu03-17\\appdata\\local\\programs\\python\\python310\\lib\\site-packages (from httpx==0.13.3->googletrans==4.0.0-rc1) (2025.1.1)\n",
            "Requirement already satisfied: sniffio in c:\\users\\edu03-17\\appdata\\local\\programs\\python\\python310\\lib\\site-packages (from httpx==0.13.3->googletrans==4.0.0-rc1) (1.3.1)\n",
            "Requirement already satisfied: rfc3986<2,>=1.3 in c:\\users\\edu03-17\\appdata\\local\\programs\\python\\python310\\lib\\site-packages (from httpx==0.13.3->googletrans==4.0.0-rc1) (1.5.0)\n",
            "Requirement already satisfied: idna==2.* in c:\\users\\edu03-17\\appdata\\local\\programs\\python\\python310\\lib\\site-packages (from httpx==0.13.3->googletrans==4.0.0-rc1) (2.10)\n",
            "Requirement already satisfied: chardet==3.* in c:\\users\\edu03-17\\appdata\\local\\programs\\python\\python310\\lib\\site-packages (from httpx==0.13.3->googletrans==4.0.0-rc1) (3.0.4)\n",
            "Requirement already satisfied: certifi in c:\\users\\edu03-17\\appdata\\local\\programs\\python\\python310\\lib\\site-packages (from httpx==0.13.3->googletrans==4.0.0-rc1) (2025.7.14)\n",
            "Requirement already satisfied: httpcore==0.9.* in c:\\users\\edu03-17\\appdata\\local\\programs\\python\\python310\\lib\\site-packages (from httpx==0.13.3->googletrans==4.0.0-rc1) (0.9.1)\n",
            "Requirement already satisfied: h11<0.10,>=0.8 in c:\\users\\edu03-17\\appdata\\local\\programs\\python\\python310\\lib\\site-packages (from httpcore==0.9.*->httpx==0.13.3->googletrans==4.0.0-rc1) (0.9.0)\n",
            "Requirement already satisfied: h2==3.* in c:\\users\\edu03-17\\appdata\\local\\programs\\python\\python310\\lib\\site-packages (from httpcore==0.9.*->httpx==0.13.3->googletrans==4.0.0-rc1) (3.2.0)\n",
            "Requirement already satisfied: hpack<4,>=3.0 in c:\\users\\edu03-17\\appdata\\local\\programs\\python\\python310\\lib\\site-packages (from h2==3.*->httpcore==0.9.*->httpx==0.13.3->googletrans==4.0.0-rc1) (3.0.0)\n",
            "Requirement already satisfied: hyperframe<6,>=5.2.0 in c:\\users\\edu03-17\\appdata\\local\\programs\\python\\python310\\lib\\site-packages (from h2==3.*->httpcore==0.9.*->httpx==0.13.3->googletrans==4.0.0-rc1) (5.2.0)\n",
            "Requirement already satisfied: soupsieve>1.2 in c:\\users\\edu03-17\\appdata\\local\\programs\\python\\python310\\lib\\site-packages (from beautifulsoup4) (2.7)\n",
            "Requirement already satisfied: typing-extensions>=4.0.0 in c:\\users\\edu03-17\\appdata\\roaming\\python\\python310\\site-packages (from beautifulsoup4) (4.14.1)\n"
          ]
        },
        {
          "name": "stderr",
          "output_type": "stream",
          "text": [
            "\n",
            "[notice] A new release of pip available: 22.3.1 -> 25.1.1\n",
            "[notice] To update, run: python.exe -m pip install --upgrade pip\n"
          ]
        }
      ],
      "source": [
        "!pip install googletrans==4.0.0-rc1 fpdf beautifulsoup4"
      ]
    },
    {
      "cell_type": "code",
      "execution_count": 56,
      "metadata": {},
      "outputs": [
        {
          "name": "stdout",
          "output_type": "stream",
          "text": [
            "Requirement already satisfied: plotly in c:\\users\\edu03-17\\appdata\\local\\programs\\python\\python310\\lib\\site-packages (6.2.0)\n",
            "Requirement already satisfied: narwhals>=1.15.1 in c:\\users\\edu03-17\\appdata\\local\\programs\\python\\python310\\lib\\site-packages (from plotly) (1.48.0)\n",
            "Requirement already satisfied: packaging in c:\\users\\edu03-17\\appdata\\roaming\\python\\python310\\site-packages (from plotly) (25.0)\n"
          ]
        },
        {
          "name": "stderr",
          "output_type": "stream",
          "text": [
            "\n",
            "[notice] A new release of pip available: 22.3.1 -> 25.1.1\n",
            "[notice] To update, run: python.exe -m pip install --upgrade pip\n"
          ]
        }
      ],
      "source": [
        "!pip install plotly"
      ]
    },
    {
      "cell_type": "code",
      "execution_count": 57,
      "metadata": {},
      "outputs": [],
      "source": [
        "from pyngrok import ngrok\n",
        "# 인증(토큰이 있다면)\n",
        "ngrok.set_auth_token('302LCWYrgLSuvlCkbf0Memx1PLf_2DJvKiiGcTJBwSK58sH1e')"
      ]
    },
    {
      "cell_type": "code",
      "execution_count": 58,
      "metadata": {
        "id": "8npYu5TaIDVx"
      },
      "outputs": [],
      "source": [
        "# 4차\n",
        "app_code = \"\"\"\n",
        "import streamlit as st\n",
        "import pandas as pd\n",
        "import feedparser\n",
        "from urllib.parse import quote\n",
        "from bs4 import BeautifulSoup\n",
        "from konlpy.tag import Okt\n",
        "from sentence_transformers import SentenceTransformer, util\n",
        "from transformers import pipeline\n",
        "from wordcloud import WordCloud\n",
        "import plotly.express as px\n",
        "import matplotlib.pyplot as plt\n",
        "from datetime import datetime\n",
        "import os\n",
        "from googletrans import Translator\n",
        "from fpdf import FPDF\n",
        "from io import BytesIO\n",
        "\n",
        "# 1. 모델 로딩\n",
        "@st.cache_resource\n",
        "def load_models():\n",
        "    summarizer = SentenceTransformer(\"jhgan/ko-sroberta-multitask\")\n",
        "    sentiment_ko = pipeline(\"sentiment-analysis\", model=\"nlptown/bert-base-multilingual-uncased-sentiment\")\n",
        "    sentiment_en = pipeline(\"sentiment-analysis\", model=\"distilbert-base-uncased-finetuned-sst-2-english\")\n",
        "    okt = Okt()\n",
        "    return summarizer, sentiment_ko, sentiment_en, okt\n",
        "\n",
        "summarizer, sentiment_ko, sentiment_en, okt = load_models()\n",
        "translator = Translator()\n",
        "\n",
        "# 기본 설정\n",
        "st.set_page_config(page_title=\"🧠 AI 요약 뉴스 대시보드\", layout=\"wide\")\n",
        "st.title(\"📰 AI 뉴스 요약 대시보드\")\n",
        "st.caption(\"요약 · 감성분석 · 키워드 추출 · 감성분포 · 시계열 · PDF 저장까지 한 번에\")\n",
        "\n",
        "# 필터\n",
        "KEYWORDS = [\"AI\", \"로봇\", \"LG\", \"감정\", \"IT\"]\n",
        "selected_keywords = st.sidebar.multiselect(\"🔎 키워드 선택\", KEYWORDS, default=KEYWORDS)\n",
        "extra_kw = st.sidebar.text_input(\"➕ 추가 키워드 (쉼표로 구분)\")\n",
        "if extra_kw:\n",
        "    selected_keywords += [kw.strip() for kw in extra_kw.split(\",\") if kw.strip()]\n",
        "lang_option = st.sidebar.radio(\"🌍 언어\", [\"한국어\", \"영어\"])\n",
        "max_items = st.sidebar.slider(\"📰 키워드당 뉴스 수\", 1, 10, 5)\n",
        "start_date = st.sidebar.date_input(\"📅 시작 날짜\", None)\n",
        "end_date = st.sidebar.date_input(\"📅 종료 날짜\", None)\n",
        "view_type = st.sidebar.radio(\"🗂 보기 방식\", [\"카드뷰\", \"표\"])\n",
        "\n",
        "# 세션 초기화\n",
        "if \"bookmarks\" not in st.session_state:\n",
        "    st.session_state[\"bookmarks\"] = []\n",
        "\n",
        "# 유틸 함수\n",
        "def clean_text(html):\n",
        "    return BeautifulSoup(html, \"html.parser\").get_text(separator=\" \").strip()\n",
        "\n",
        "def summarize(text, num_sent=2):\n",
        "    sentences = clean_text(text).replace('!','.').split('. ')\n",
        "    if len(sentences) <= num_sent: return ' '.join(sentences)\n",
        "    emb = summarizer.encode(sentences)\n",
        "    center = emb.mean(axis=0)\n",
        "    scores = [util.pytorch_cos_sim([center],[e])[0][0] for e in emb]\n",
        "    top_idx = sorted(range(len(scores)), key=lambda i: scores[i], reverse=True)[:num_sent]\n",
        "    return '. '.join([sentences[i] for i in sorted(top_idx)])\n",
        "\n",
        "def extract_keywords(text, n=5):\n",
        "    nouns = [w for w in okt.nouns(clean_text(text)) if len(w) > 1]\n",
        "    freq = pd.Series(nouns).value_counts() if nouns else pd.Series([])\n",
        "    return ', '.join(freq[:n].index) if not freq.empty else ''\n",
        "\n",
        "def get_sentiment(text, lang=\"ko\"):\n",
        "    try:\n",
        "        if lang == \"ko\":\n",
        "            result = sentiment_ko(text[:256])\n",
        "            return result[0][\"label\"]\n",
        "        else:\n",
        "            result = sentiment_en(text)\n",
        "            return {\"POSITIVE\":\"긍정\", \"NEGATIVE\":\"부정\"}.get(result[0][\"label\"], \"중립\")\n",
        "    except:\n",
        "        return \"중립\"\n",
        "\n",
        "def fetch_news(keyword, lang=\"ko\"):\n",
        "    q = quote(keyword)\n",
        "    base = f\"https://news.google.com/rss/search?q={q}&hl={lang}&gl=KR&ceid=KR:{lang}\"\n",
        "    feed = feedparser.parse(base)\n",
        "    items = []\n",
        "    for entry in feed.entries[:max_items]:\n",
        "        title = entry.title\n",
        "        link = entry.link\n",
        "        raw_summary = entry.summary if hasattr(entry, \"summary\") else title\n",
        "        date = entry.get(\"published\", datetime.now().strftime(\"%Y-%m-%d\"))\n",
        "        summary = clean_text(raw_summary)\n",
        "        if lang == \"en\":\n",
        "            summary = translator.translate(summary, dest=\"ko\").text\n",
        "        sumy = summarize(summary)\n",
        "        keywords = extract_keywords(summary)\n",
        "        senti = get_sentiment(summary, lang=\"ko\")\n",
        "        items.append({\n",
        "            \"키워드\": keyword, \"제목\": title, \"링크\": link, \"날짜\": date,\n",
        "            \"요약\": sumy, \"키워드추출\": keywords, \"감성\": senti\n",
        "        })\n",
        "    return pd.DataFrame(items)\n",
        "\n",
        "df_list = [fetch_news(k, lang=\"ko\" if lang_option==\"한국어\" else \"en\") for k in selected_keywords]\n",
        "news_df = pd.concat(df_list).drop_duplicates(subset=\"링크\")\n",
        "news_df[\"날짜\"] = pd.to_datetime(news_df[\"날짜\"], errors=\"coerce\")\n",
        "\n",
        "# 날짜 필터\n",
        "if start_date:\n",
        "    news_df = news_df[news_df[\"날짜\"] >= pd.to_datetime(start_date)]\n",
        "if end_date:\n",
        "    news_df = news_df[news_df[\"날짜\"] <= pd.to_datetime(end_date)]\n",
        "\n",
        "senti_emoji = {'긍정':'🟢', '부정':'🔴', '중립':'🟡'}\n",
        "news_df[\"감성이모지\"] = news_df[\"감성\"].map(senti_emoji)\n",
        "\n",
        "st.markdown(f\"### 📊 뉴스 수집 결과: {len(news_df)}건\")\n",
        "if news_df.empty:\n",
        "    st.warning(\"데이터가 없습니다. 키워드나 날짜 필터를 확인하세요.\")\n",
        "    st.stop()\n",
        "\n",
        "# 시각화\n",
        "with st.expander(\"📈 트렌드 분석\"):\n",
        "    col1, col2 = st.columns(2)\n",
        "    with col1:\n",
        "        st.subheader(\"❤️ 감성 분포\")\n",
        "        st.plotly_chart(px.pie(news_df, names=\"감성\"))\n",
        "    with col2:\n",
        "        st.subheader(\"🔥 인기 키워드\")\n",
        "        all_kws = \",\".join(news_df[\"키워드추출\"].dropna().values).split(\",\")\n",
        "        kw_freq = pd.Series([k.strip() for k in all_kws if k.strip()]).value_counts().head(10)\n",
        "        st.bar_chart(kw_freq)\n",
        "\n",
        "    st.subheader(\"📆 감성 시계열\")\n",
        "    emo_day = news_df.groupby([news_df[\"날짜\"].dt.date, \"감성\"]).size().unstack().fillna(0)\n",
        "    st.line_chart(emo_day)\n",
        "\n",
        "# 키워드별 감성 비교\n",
        "with st.expander(\"🆚 키워드 감성 비교\"):\n",
        "    compare_kw = st.multiselect(\"비교할 키워드를 선택\", news_df[\"키워드\"].unique())\n",
        "    if compare_kw:\n",
        "        df_comp = news_df[news_df[\"키워드\"].isin(compare_kw)]\n",
        "        fig = px.histogram(df_comp, x=\"감성\", color=\"키워드\", barmode=\"group\")\n",
        "        st.plotly_chart(fig)\n",
        "\n",
        "# 뉴스 출력\n",
        "st.markdown(\"## 🗞 뉴스 목록\")\n",
        "if view_type == \"카드뷰\":\n",
        "    for i, row in news_df.iterrows():\n",
        "        with st.container():\n",
        "            st.markdown(f\"### 📰 [{row['제목']}]({row['링크']})\")\n",
        "            st.caption(f\"📅 {row['날짜'].date()}\")\n",
        "            st.markdown(f\"🧾 {row['요약']}\")\n",
        "            senti = row[\"감성\"]\n",
        "            emoji = senti_emoji.get(senti, \"\")\n",
        "            st.markdown(f\"**감성:** {emoji} {senti}\")\n",
        "            st.markdown(f\"`{row['키워드추출']}`\")\n",
        "            if row[\"감성\"] == \"부정\":\n",
        "                st.warning(\"🚨 이 뉴스는 부정적인 감성으로 분류되었습니다.\")\n",
        "            if st.button(\"⭐ 북마크\", key=f\"bm_{i}\"):\n",
        "                st.session_state[\"bookmarks\"].append(row[\"링크\"])\n",
        "else:\n",
        "    st.dataframe(news_df[[\"키워드\",\"제목\",\"날짜\",\"요약\",\"감성\",\"링크\"]], use_container_width=True)\n",
        "\n",
        "# 북마크 보기 및 PDF 저장\n",
        "with st.expander(\"📩 북마크 뉴스 + PDF 저장\"):\n",
        "    bm_df = news_df[news_df[\"링크\"].isin(st.session_state[\"bookmarks\"])]\n",
        "    if not bm_df.empty:\n",
        "        st.write(\"⭐ 북마크 뉴스:\")\n",
        "        for _, row in bm_df.iterrows():\n",
        "            st.markdown(f\"- [{row['제목']}]({row['링크']})\")\n",
        "        if st.button(\"📄 북마크 뉴스 PDF 만들기\"):\n",
        "            pdf = FPDF()\n",
        "            pdf.add_page()\n",
        "            pdf.set_font(\"Arial\", size=12)\n",
        "            pdf.set_font_size(14)\n",
        "            pdf.cell(200, 10, txt=\"북마크 뉴스 요약\", ln=1, align='C')\n",
        "            pdf.set_font_size(10)\n",
        "\n",
        "            for _, row in bm_df.iterrows():\n",
        "                entry = (\n",
        "                    \"📰 제목     : \" + row['제목'] + \"\\\\n\"\n",
        "                    \"🧾 요약     : \" + row['요약'] + \"\\\\n\"\n",
        "                    \"🏷️ 키워드   : \" + row['키워드추출'] + \"\\\\n\"\n",
        "                    \"❤️ 감성     : \" + row['감성'] + \" \" + senti_emoji.get(row['감성'], \"\") + \"\\\\n\"\n",
        "                    \"🔗 링크     : \" + row['링크'] + \"\\\\n\"\n",
        "                    + \"------------------------------------------------------------\\\\n\"\n",
        "                )\n",
        "                pdf.multi_cell(0, 10, entry)\n",
        "\n",
        "            temp = BytesIO()\n",
        "            pdf.output(temp)\n",
        "            st.download_button(\"⬇️ PDF 다운로드\", data=temp.getvalue(), file_name=\"북마크_뉴스.pdf\")\n",
        "    else:\n",
        "        st.info(\"📌 북마크한 뉴스가 없습니다. 뉴스 옆 ⭐ 버튼으로 저장해보세요.\")\n",
        "\"\"\"\n",
        "with open(\"app.py\", \"w\", encoding=\"utf-8\") as f:\n",
        "    f.write(app_code)"
      ]
    },
    {
      "cell_type": "code",
      "execution_count": 59,
      "metadata": {
        "colab": {
          "base_uri": "https://localhost:8080/"
        },
        "id": "KQ0OdLJEf7VK",
        "outputId": "169b25e8-1529-4aed-e7fe-43c836c3a99f"
      },
      "outputs": [
        {
          "ename": "PyngrokNgrokHTTPError",
          "evalue": "ngrok client exception, API returned 502: {\"error_code\":103,\"status_code\":502,\"msg\":\"failed to start tunnel\",\"details\":{\"err\":\"failed to start tunnel: Your account may not run more than 3 tunnels over a single ngrok agent session.\\nThe tunnels already running on this session are:\\ntn_30CzsmIelAMtB4AMFwPcek2KnCQ, tn_30D07UKdPMPnUyZQBRVYd4ia7Aa, tn_30D0HP0ng6XMt4pNScRUf4n7fKN\\n\\r\\n\\r\\nERR_NGROK_324\\r\\n\"}}\n",
          "output_type": "error",
          "traceback": [
            "\u001b[1;31m---------------------------------------------------------------------------\u001b[0m",
            "\u001b[1;31mHTTPError\u001b[0m                                 Traceback (most recent call last)",
            "File \u001b[1;32mc:\\Users\\EDU03-17\\AppData\\Local\\Programs\\Python\\Python310\\lib\\site-packages\\pyngrok\\ngrok.py:627\u001b[0m, in \u001b[0;36mapi_request\u001b[1;34m(url, method, data, params, timeout, auth)\u001b[0m\n\u001b[0;32m    626\u001b[0m \u001b[38;5;28;01mtry\u001b[39;00m:\n\u001b[1;32m--> 627\u001b[0m     response \u001b[38;5;241m=\u001b[39m \u001b[43murlopen\u001b[49m\u001b[43m(\u001b[49m\u001b[43mrequest\u001b[49m\u001b[43m,\u001b[49m\u001b[43m \u001b[49m\u001b[43mencoded_data\u001b[49m\u001b[43m,\u001b[49m\u001b[43m \u001b[49m\u001b[43mtimeout\u001b[49m\u001b[43m)\u001b[49m\n\u001b[0;32m    628\u001b[0m     response_data \u001b[38;5;241m=\u001b[39m response\u001b[38;5;241m.\u001b[39mread()\u001b[38;5;241m.\u001b[39mdecode(\u001b[38;5;124m\"\u001b[39m\u001b[38;5;124mutf-8\u001b[39m\u001b[38;5;124m\"\u001b[39m)\n",
            "File \u001b[1;32mc:\\Users\\EDU03-17\\AppData\\Local\\Programs\\Python\\Python310\\lib\\urllib\\request.py:216\u001b[0m, in \u001b[0;36murlopen\u001b[1;34m(url, data, timeout, cafile, capath, cadefault, context)\u001b[0m\n\u001b[0;32m    215\u001b[0m     opener \u001b[38;5;241m=\u001b[39m _opener\n\u001b[1;32m--> 216\u001b[0m \u001b[38;5;28;01mreturn\u001b[39;00m \u001b[43mopener\u001b[49m\u001b[38;5;241;43m.\u001b[39;49m\u001b[43mopen\u001b[49m\u001b[43m(\u001b[49m\u001b[43murl\u001b[49m\u001b[43m,\u001b[49m\u001b[43m \u001b[49m\u001b[43mdata\u001b[49m\u001b[43m,\u001b[49m\u001b[43m \u001b[49m\u001b[43mtimeout\u001b[49m\u001b[43m)\u001b[49m\n",
            "File \u001b[1;32mc:\\Users\\EDU03-17\\AppData\\Local\\Programs\\Python\\Python310\\lib\\urllib\\request.py:525\u001b[0m, in \u001b[0;36mOpenerDirector.open\u001b[1;34m(self, fullurl, data, timeout)\u001b[0m\n\u001b[0;32m    524\u001b[0m     meth \u001b[38;5;241m=\u001b[39m \u001b[38;5;28mgetattr\u001b[39m(processor, meth_name)\n\u001b[1;32m--> 525\u001b[0m     response \u001b[38;5;241m=\u001b[39m \u001b[43mmeth\u001b[49m\u001b[43m(\u001b[49m\u001b[43mreq\u001b[49m\u001b[43m,\u001b[49m\u001b[43m \u001b[49m\u001b[43mresponse\u001b[49m\u001b[43m)\u001b[49m\n\u001b[0;32m    527\u001b[0m \u001b[38;5;28;01mreturn\u001b[39;00m response\n",
            "File \u001b[1;32mc:\\Users\\EDU03-17\\AppData\\Local\\Programs\\Python\\Python310\\lib\\urllib\\request.py:634\u001b[0m, in \u001b[0;36mHTTPErrorProcessor.http_response\u001b[1;34m(self, request, response)\u001b[0m\n\u001b[0;32m    633\u001b[0m \u001b[38;5;28;01mif\u001b[39;00m \u001b[38;5;129;01mnot\u001b[39;00m (\u001b[38;5;241m200\u001b[39m \u001b[38;5;241m<\u001b[39m\u001b[38;5;241m=\u001b[39m code \u001b[38;5;241m<\u001b[39m \u001b[38;5;241m300\u001b[39m):\n\u001b[1;32m--> 634\u001b[0m     response \u001b[38;5;241m=\u001b[39m \u001b[38;5;28;43mself\u001b[39;49m\u001b[38;5;241;43m.\u001b[39;49m\u001b[43mparent\u001b[49m\u001b[38;5;241;43m.\u001b[39;49m\u001b[43merror\u001b[49m\u001b[43m(\u001b[49m\n\u001b[0;32m    635\u001b[0m \u001b[43m        \u001b[49m\u001b[38;5;124;43m'\u001b[39;49m\u001b[38;5;124;43mhttp\u001b[39;49m\u001b[38;5;124;43m'\u001b[39;49m\u001b[43m,\u001b[49m\u001b[43m \u001b[49m\u001b[43mrequest\u001b[49m\u001b[43m,\u001b[49m\u001b[43m \u001b[49m\u001b[43mresponse\u001b[49m\u001b[43m,\u001b[49m\u001b[43m \u001b[49m\u001b[43mcode\u001b[49m\u001b[43m,\u001b[49m\u001b[43m \u001b[49m\u001b[43mmsg\u001b[49m\u001b[43m,\u001b[49m\u001b[43m \u001b[49m\u001b[43mhdrs\u001b[49m\u001b[43m)\u001b[49m\n\u001b[0;32m    637\u001b[0m \u001b[38;5;28;01mreturn\u001b[39;00m response\n",
            "File \u001b[1;32mc:\\Users\\EDU03-17\\AppData\\Local\\Programs\\Python\\Python310\\lib\\urllib\\request.py:563\u001b[0m, in \u001b[0;36mOpenerDirector.error\u001b[1;34m(self, proto, *args)\u001b[0m\n\u001b[0;32m    562\u001b[0m args \u001b[38;5;241m=\u001b[39m (\u001b[38;5;28mdict\u001b[39m, \u001b[38;5;124m'\u001b[39m\u001b[38;5;124mdefault\u001b[39m\u001b[38;5;124m'\u001b[39m, \u001b[38;5;124m'\u001b[39m\u001b[38;5;124mhttp_error_default\u001b[39m\u001b[38;5;124m'\u001b[39m) \u001b[38;5;241m+\u001b[39m orig_args\n\u001b[1;32m--> 563\u001b[0m \u001b[38;5;28;01mreturn\u001b[39;00m \u001b[38;5;28;43mself\u001b[39;49m\u001b[38;5;241;43m.\u001b[39;49m\u001b[43m_call_chain\u001b[49m\u001b[43m(\u001b[49m\u001b[38;5;241;43m*\u001b[39;49m\u001b[43margs\u001b[49m\u001b[43m)\u001b[49m\n",
            "File \u001b[1;32mc:\\Users\\EDU03-17\\AppData\\Local\\Programs\\Python\\Python310\\lib\\urllib\\request.py:496\u001b[0m, in \u001b[0;36mOpenerDirector._call_chain\u001b[1;34m(self, chain, kind, meth_name, *args)\u001b[0m\n\u001b[0;32m    495\u001b[0m func \u001b[38;5;241m=\u001b[39m \u001b[38;5;28mgetattr\u001b[39m(handler, meth_name)\n\u001b[1;32m--> 496\u001b[0m result \u001b[38;5;241m=\u001b[39m \u001b[43mfunc\u001b[49m\u001b[43m(\u001b[49m\u001b[38;5;241;43m*\u001b[39;49m\u001b[43margs\u001b[49m\u001b[43m)\u001b[49m\n\u001b[0;32m    497\u001b[0m \u001b[38;5;28;01mif\u001b[39;00m result \u001b[38;5;129;01mis\u001b[39;00m \u001b[38;5;129;01mnot\u001b[39;00m \u001b[38;5;28;01mNone\u001b[39;00m:\n",
            "File \u001b[1;32mc:\\Users\\EDU03-17\\AppData\\Local\\Programs\\Python\\Python310\\lib\\urllib\\request.py:643\u001b[0m, in \u001b[0;36mHTTPDefaultErrorHandler.http_error_default\u001b[1;34m(self, req, fp, code, msg, hdrs)\u001b[0m\n\u001b[0;32m    642\u001b[0m \u001b[38;5;28;01mdef\u001b[39;00m\u001b[38;5;250m \u001b[39m\u001b[38;5;21mhttp_error_default\u001b[39m(\u001b[38;5;28mself\u001b[39m, req, fp, code, msg, hdrs):\n\u001b[1;32m--> 643\u001b[0m     \u001b[38;5;28;01mraise\u001b[39;00m HTTPError(req\u001b[38;5;241m.\u001b[39mfull_url, code, msg, hdrs, fp)\n",
            "\u001b[1;31mHTTPError\u001b[0m: HTTP Error 502: Bad Gateway",
            "\nDuring handling of the above exception, another exception occurred:\n",
            "\u001b[1;31mPyngrokNgrokHTTPError\u001b[0m                     Traceback (most recent call last)",
            "Cell \u001b[1;32mIn[59], line 3\u001b[0m\n\u001b[0;32m      1\u001b[0m \u001b[38;5;28;01mfrom\u001b[39;00m\u001b[38;5;250m \u001b[39m\u001b[38;5;21;01mpyngrok\u001b[39;00m\u001b[38;5;250m \u001b[39m\u001b[38;5;28;01mimport\u001b[39;00m ngrok\n\u001b[1;32m----> 3\u001b[0m public_url \u001b[38;5;241m=\u001b[39m \u001b[43mngrok\u001b[49m\u001b[38;5;241;43m.\u001b[39;49m\u001b[43mconnect\u001b[49m\u001b[43m(\u001b[49m\u001b[38;5;241;43m8501\u001b[39;49m\u001b[43m)\u001b[49m\n\u001b[0;32m      4\u001b[0m \u001b[38;5;28mprint\u001b[39m(\u001b[38;5;124m'\u001b[39m\u001b[38;5;124mStreamlit 접속 주소:\u001b[39m\u001b[38;5;124m'\u001b[39m, public_url)\n",
            "File \u001b[1;32mc:\\Users\\EDU03-17\\AppData\\Local\\Programs\\Python\\Python310\\lib\\site-packages\\pyngrok\\ngrok.py:389\u001b[0m, in \u001b[0;36mconnect\u001b[1;34m(addr, proto, name, pyngrok_config, **options)\u001b[0m\n\u001b[0;32m    385\u001b[0m api_url \u001b[38;5;241m=\u001b[39m get_ngrok_process(pyngrok_config)\u001b[38;5;241m.\u001b[39mapi_url\n\u001b[0;32m    387\u001b[0m logger\u001b[38;5;241m.\u001b[39mdebug(\u001b[38;5;124mf\u001b[39m\u001b[38;5;124m\"\u001b[39m\u001b[38;5;124mCreating tunnel with options: \u001b[39m\u001b[38;5;132;01m{\u001b[39;00moptions\u001b[38;5;132;01m}\u001b[39;00m\u001b[38;5;124m\"\u001b[39m)\n\u001b[1;32m--> 389\u001b[0m tunnel \u001b[38;5;241m=\u001b[39m NgrokTunnel(\u001b[43mapi_request\u001b[49m\u001b[43m(\u001b[49m\u001b[38;5;124;43mf\u001b[39;49m\u001b[38;5;124;43m\"\u001b[39;49m\u001b[38;5;132;43;01m{\u001b[39;49;00m\u001b[43mapi_url\u001b[49m\u001b[38;5;132;43;01m}\u001b[39;49;00m\u001b[38;5;124;43m/api/tunnels\u001b[39;49m\u001b[38;5;124;43m\"\u001b[39;49m\u001b[43m,\u001b[49m\u001b[43m \u001b[49m\u001b[43mmethod\u001b[49m\u001b[38;5;241;43m=\u001b[39;49m\u001b[38;5;124;43m\"\u001b[39;49m\u001b[38;5;124;43mPOST\u001b[39;49m\u001b[38;5;124;43m\"\u001b[39;49m\u001b[43m,\u001b[49m\u001b[43m \u001b[49m\u001b[43mdata\u001b[49m\u001b[38;5;241;43m=\u001b[39;49m\u001b[43moptions\u001b[49m\u001b[43m,\u001b[49m\n\u001b[0;32m    390\u001b[0m \u001b[43m                                 \u001b[49m\u001b[43mtimeout\u001b[49m\u001b[38;5;241;43m=\u001b[39;49m\u001b[43mpyngrok_config\u001b[49m\u001b[38;5;241;43m.\u001b[39;49m\u001b[43mrequest_timeout\u001b[49m\u001b[43m)\u001b[49m,\n\u001b[0;32m    391\u001b[0m                      pyngrok_config, api_url)\n\u001b[0;32m    393\u001b[0m \u001b[38;5;28;01mif\u001b[39;00m pyngrok_config\u001b[38;5;241m.\u001b[39mngrok_version \u001b[38;5;241m==\u001b[39m \u001b[38;5;124m\"\u001b[39m\u001b[38;5;124mv2\u001b[39m\u001b[38;5;124m\"\u001b[39m \u001b[38;5;129;01mand\u001b[39;00m proto \u001b[38;5;241m==\u001b[39m \u001b[38;5;124m\"\u001b[39m\u001b[38;5;124mhttp\u001b[39m\u001b[38;5;124m\"\u001b[39m \u001b[38;5;129;01mand\u001b[39;00m options\u001b[38;5;241m.\u001b[39mget(\u001b[38;5;124m\"\u001b[39m\u001b[38;5;124mbind_tls\u001b[39m\u001b[38;5;124m\"\u001b[39m, \u001b[38;5;124m\"\u001b[39m\u001b[38;5;124mboth\u001b[39m\u001b[38;5;124m\"\u001b[39m) \u001b[38;5;241m==\u001b[39m \u001b[38;5;124m\"\u001b[39m\u001b[38;5;124mboth\u001b[39m\u001b[38;5;124m\"\u001b[39m:\n\u001b[0;32m    394\u001b[0m     tunnel \u001b[38;5;241m=\u001b[39m NgrokTunnel(api_request(\u001b[38;5;124mf\u001b[39m\u001b[38;5;124m\"\u001b[39m\u001b[38;5;132;01m{\u001b[39;00mapi_url\u001b[38;5;132;01m}\u001b[39;00m\u001b[38;5;132;01m{\u001b[39;00mtunnel\u001b[38;5;241m.\u001b[39muri\u001b[38;5;132;01m}\u001b[39;00m\u001b[38;5;124m%20%28http%29\u001b[39m\u001b[38;5;124m\"\u001b[39m, method\u001b[38;5;241m=\u001b[39m\u001b[38;5;124m\"\u001b[39m\u001b[38;5;124mGET\u001b[39m\u001b[38;5;124m\"\u001b[39m,\n\u001b[0;32m    395\u001b[0m                                      timeout\u001b[38;5;241m=\u001b[39mpyngrok_config\u001b[38;5;241m.\u001b[39mrequest_timeout),\n\u001b[0;32m    396\u001b[0m                          pyngrok_config, api_url)\n",
            "File \u001b[1;32mc:\\Users\\EDU03-17\\AppData\\Local\\Programs\\Python\\Python310\\lib\\site-packages\\pyngrok\\ngrok.py:648\u001b[0m, in \u001b[0;36mapi_request\u001b[1;34m(url, method, data, params, timeout, auth)\u001b[0m\n\u001b[0;32m    645\u001b[0m     status_code \u001b[38;5;241m=\u001b[39m e\u001b[38;5;241m.\u001b[39mgetcode()\n\u001b[0;32m    646\u001b[0m     logger\u001b[38;5;241m.\u001b[39mdebug(\u001b[38;5;124mf\u001b[39m\u001b[38;5;124m\"\u001b[39m\u001b[38;5;124mResponse \u001b[39m\u001b[38;5;132;01m{\u001b[39;00mstatus_code\u001b[38;5;132;01m}\u001b[39;00m\u001b[38;5;124m: \u001b[39m\u001b[38;5;132;01m{\u001b[39;00mresponse_data\u001b[38;5;241m.\u001b[39mstrip()\u001b[38;5;132;01m}\u001b[39;00m\u001b[38;5;124m\"\u001b[39m)\n\u001b[1;32m--> 648\u001b[0m     \u001b[38;5;28;01mraise\u001b[39;00m PyngrokNgrokHTTPError(\u001b[38;5;124mf\u001b[39m\u001b[38;5;124m\"\u001b[39m\u001b[38;5;124mngrok client exception, API returned \u001b[39m\u001b[38;5;132;01m{\u001b[39;00mstatus_code\u001b[38;5;132;01m}\u001b[39;00m\u001b[38;5;124m: \u001b[39m\u001b[38;5;132;01m{\u001b[39;00mresponse_data\u001b[38;5;132;01m}\u001b[39;00m\u001b[38;5;124m\"\u001b[39m,\n\u001b[0;32m    649\u001b[0m                                 e\u001b[38;5;241m.\u001b[39murl,\n\u001b[0;32m    650\u001b[0m                                 status_code, e\u001b[38;5;241m.\u001b[39mreason, e\u001b[38;5;241m.\u001b[39mheaders, response_data)\n\u001b[0;32m    651\u001b[0m \u001b[38;5;28;01mexcept\u001b[39;00m URLError \u001b[38;5;28;01mas\u001b[39;00m e:\n\u001b[0;32m    652\u001b[0m     \u001b[38;5;28;01mraise\u001b[39;00m PyngrokNgrokURLError(\u001b[38;5;124mf\u001b[39m\u001b[38;5;124m\"\u001b[39m\u001b[38;5;124mngrok client exception, URLError: \u001b[39m\u001b[38;5;132;01m{\u001b[39;00me\u001b[38;5;241m.\u001b[39mreason\u001b[38;5;132;01m}\u001b[39;00m\u001b[38;5;124m\"\u001b[39m, e\u001b[38;5;241m.\u001b[39mreason)\n",
            "\u001b[1;31mPyngrokNgrokHTTPError\u001b[0m: ngrok client exception, API returned 502: {\"error_code\":103,\"status_code\":502,\"msg\":\"failed to start tunnel\",\"details\":{\"err\":\"failed to start tunnel: Your account may not run more than 3 tunnels over a single ngrok agent session.\\nThe tunnels already running on this session are:\\ntn_30CzsmIelAMtB4AMFwPcek2KnCQ, tn_30D07UKdPMPnUyZQBRVYd4ia7Aa, tn_30D0HP0ng6XMt4pNScRUf4n7fKN\\n\\r\\n\\r\\nERR_NGROK_324\\r\\n\"}}\n"
          ]
        }
      ],
      "source": [
        "from pyngrok import ngrok\n",
        "\n",
        "public_url = ngrok.connect(8501)\n",
        "print('Streamlit 접속 주소:', public_url)\n"
      ]
    },
    {
      "cell_type": "code",
      "execution_count": null,
      "metadata": {
        "colab": {
          "background_save": true,
          "base_uri": "https://localhost:8080/"
        },
        "id": "_6iJGD0WgB-P",
        "outputId": "0b7caf8f-49aa-40c1-81cf-8978efbccc9b"
      },
      "outputs": [
        {
          "name": "stdout",
          "output_type": "stream",
          "text": [
            "^C\n"
          ]
        }
      ],
      "source": [
        "!streamlit run --server.headless true app.py"
      ]
    }
  ],
  "metadata": {
    "colab": {
      "provenance": []
    },
    "kernelspec": {
      "display_name": "Python 3",
      "name": "python3"
    },
    "language_info": {
      "name": "python"
    }
  },
  "nbformat": 4,
  "nbformat_minor": 0
}
