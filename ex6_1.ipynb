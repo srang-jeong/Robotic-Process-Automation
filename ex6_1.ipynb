{
  "nbformat": 4,
  "nbformat_minor": 0,
  "metadata": {
    "colab": {
      "provenance": [],
      "authorship_tag": "ABX9TyNSa33flCTVeE0mK02zjw5s",
      "include_colab_link": true
    },
    "kernelspec": {
      "name": "python3",
      "display_name": "Python 3"
    },
    "language_info": {
      "name": "python"
    }
  },
  "cells": [
    {
      "cell_type": "markdown",
      "metadata": {
        "id": "view-in-github",
        "colab_type": "text"
      },
      "source": [
        "<a href=\"https://colab.research.google.com/github/srang-jeong/Robotic-Process-Automation/blob/main/ex6_1.ipynb\" target=\"_parent\"><img src=\"https://colab.research.google.com/assets/colab-badge.svg\" alt=\"Open In Colab\"/></a>"
      ]
    },
    {
      "cell_type": "code",
      "source": [
        "# w 쓰기, r 읽기전용, a 추가\n",
        "f = open(\"test1.txt\", 'w', encoding='utf-8')\n",
        "# 줄바꿈 특수문자 \\n\n",
        "f.write('this is test file.\\n테스트파일 입니다.')\n",
        "f.close() # 파일닫기\n",
        "\n",
        "# 파일 읽어오기\n",
        "f = open(\"test1.txt\", 'r', encoding='utf-8')\n",
        "while True:\n",
        "    line = f.readline()\n",
        "    if not line:\n",
        "        break\n",
        "    print( line )\n",
        "f.close()"
      ],
      "metadata": {
        "colab": {
          "base_uri": "https://localhost:8080/"
        },
        "id": "81dZg1O7E75g",
        "outputId": "d69eb80b-f698-4edf-ace9-98290ce01a52"
      },
      "execution_count": 1,
      "outputs": [
        {
          "output_type": "stream",
          "name": "stdout",
          "text": [
            "this is test file.\n",
            "\n",
            "테스트파일 입니다.\n"
          ]
        }
      ]
    }
  ]
}